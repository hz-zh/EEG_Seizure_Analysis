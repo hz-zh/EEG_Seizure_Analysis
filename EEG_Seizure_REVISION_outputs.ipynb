{
  "cells": [
    {
      "cell_type": "code",
      "source": [
        "# Connect google drive\n",
        "from google.colab import drive\n",
        "drive.mount('/content/drive')"
      ],
      "metadata": {
        "colab": {
          "base_uri": "https://localhost:8080/"
        },
        "id": "u1wzM46IZiF9",
        "outputId": "6a038907-0500-4fe3-f0a5-18d5c0e6dd34"
      },
      "execution_count": 59,
      "outputs": [
        {
          "output_type": "stream",
          "name": "stdout",
          "text": [
            "Drive already mounted at /content/drive; to attempt to forcibly remount, call drive.mount(\"/content/drive\", force_remount=True).\n"
          ]
        }
      ]
    },
    {
      "cell_type": "code",
      "source": [
        "!pip install pyriemann"
      ],
      "metadata": {
        "colab": {
          "base_uri": "https://localhost:8080/"
        },
        "id": "qu2hPTX7Z4Q0",
        "outputId": "265ac297-0571-4e70-dcd0-9287c56e76d7"
      },
      "execution_count": 60,
      "outputs": [
        {
          "output_type": "stream",
          "name": "stdout",
          "text": [
            "Requirement already satisfied: pyriemann in /usr/local/lib/python3.10/dist-packages (0.5)\n",
            "Requirement already satisfied: numpy!=1.24.0 in /usr/local/lib/python3.10/dist-packages (from pyriemann) (1.25.2)\n",
            "Requirement already satisfied: scipy in /usr/local/lib/python3.10/dist-packages (from pyriemann) (1.11.4)\n",
            "Requirement already satisfied: scikit-learn in /usr/local/lib/python3.10/dist-packages (from pyriemann) (1.2.2)\n",
            "Requirement already satisfied: joblib in /usr/local/lib/python3.10/dist-packages (from pyriemann) (1.3.2)\n",
            "Requirement already satisfied: threadpoolctl>=2.0.0 in /usr/local/lib/python3.10/dist-packages (from scikit-learn->pyriemann) (3.4.0)\n"
          ]
        }
      ]
    },
    {
      "cell_type": "code",
      "execution_count": 61,
      "metadata": {
        "colab": {
          "base_uri": "https://localhost:8080/"
        },
        "id": "-PKggDf7ZJZK",
        "outputId": "2623aa05-e42b-4ded-f1f1-8309b5ce4fc9"
      },
      "outputs": [
        {
          "output_type": "stream",
          "name": "stdout",
          "text": [
            "Train data shape is (37666, 23, 256)\n"
          ]
        }
      ],
      "source": [
        "import numpy as np\n",
        "import pandas as pd\n",
        "\n",
        "import os\n",
        "# Get the path to your Google Drive\n",
        "drive_path = \"/content/drive/My Drive\"\n",
        "\n",
        "# Combine the path to your Google Drive with the path to your data\n",
        "local_path = os.path.join(drive_path, \"EEG_Seizure_Analysis/Data/\")\n",
        "\n",
        "# Set the local path\n",
        "os.chdir('.')\n",
        "\n",
        "# Get the data\n",
        "npz_file = np.load(f'{local_path}eeg-seizure_train.npz', allow_pickle=True)\n",
        "signals_train = npz_file['train_signals']\n",
        "labels_train = npz_file['train_labels']\n",
        "\n",
        "npz_file = np.load(f'{local_path}eeg-seizure_val.npz', allow_pickle=True)\n",
        "signals_val = npz_file['val_signals']\n",
        "labels_val = npz_file['val_labels']\n",
        "\n",
        "npz_file = np.load(f'{local_path}eeg-seizure_test.npz', allow_pickle=True)\n",
        "signals_test = npz_file['test_signals']\n",
        "\n",
        "\n",
        "print('Train data shape is {}'.format(signals_train.shape))"
      ]
    },
    {
      "cell_type": "code",
      "execution_count": 62,
      "metadata": {
        "colab": {
          "base_uri": "https://localhost:8080/"
        },
        "id": "i6wfKAX6ZJZL",
        "outputId": "b63af0c2-c9f2-45bd-a599-d91cbc2ad090"
      },
      "outputs": [
        {
          "output_type": "stream",
          "name": "stdout",
          "text": [
            "[1 0 0 1 0 0 1 0 0 1 0 1 0 0 0 0 0 0 0 0 0 1 0 0 1]\n",
            "0 1\n"
          ]
        }
      ],
      "source": [
        "print(labels_train[0:25])\n",
        "print(labels_train.min(), labels_train.max())"
      ]
    },
    {
      "cell_type": "code",
      "execution_count": 63,
      "metadata": {
        "colab": {
          "base_uri": "https://localhost:8080/"
        },
        "id": "gtRcCryOZJZM",
        "outputId": "711dc454-4224-4859-d186-43421f6ff5da"
      },
      "outputs": [
        {
          "output_type": "stream",
          "name": "stdout",
          "text": [
            "length of the first signal in samples: 37666\n"
          ]
        }
      ],
      "source": [
        "print(f'length of the first signal in samples: {signals_train.shape[0]}')"
      ]
    },
    {
      "cell_type": "code",
      "execution_count": null,
      "metadata": {
        "id": "WmN40u6AZJZM"
      },
      "outputs": [],
      "source": [
        "import numpy as np\n",
        "import matplotlib.pyplot as plt\n",
        "import plotly.graph_objects as go\n",
        "# Load the data from .npz files\n",
        "\n",
        "nr_samples = signals_train.shape[0]\n",
        "cases = 23\n",
        "sampling_rate = 256  # in Hz\n",
        "time = np.linspace(0, 1, sampling_rate, endpoint=False)  # 1 second of data\n",
        "\n",
        "# Function to plot EEG signals\n",
        "def plot_eeg_signals(signals, examples=[0, 1], channels=[0]):\n",
        "    for i in examples:\n",
        "        fig = go.Figure()\n",
        "        for j, channel in enumerate(channels):\n",
        "            fig.add_trace(go.Scatter(x=time, y=signals[i, channel, :], mode='lines', name=f\"Channel {channel}\"))\n",
        "        # Include the label (true, false) in the title\n",
        "        fig.update_layout(height=600, width=1000, title_text=f\"EEG Signal Waveforms for Example {i} – Seizure: {'TRUE' if labels_train[i] == 1 else 'FALSE'}\", title_x=0.5, xaxis_title='Time (s)', yaxis_title='Amplitude (µV)')\n",
        "        fig.show()\n",
        "\n",
        "# Function to calculate basic statistics\n",
        "def calculate_statistics(signals):\n",
        "    means = np.mean(signals, axis=(1, 2))\n",
        "    variances = np.var(signals, axis=(1, 2))\n",
        "    return means, variances\n",
        "\n",
        "# Function to check for missing or corrupted data\n",
        "def check_data(signals):\n",
        "    # find channels with zero variance (dead channels which we can interpolate or remove)\n",
        "    zero_variance_channels = []\n",
        "    for i in range(signals.shape[0]):\n",
        "        for j in range(signals.shape[1]):\n",
        "            if np.var(signals[i, j, :]) == 0:\n",
        "                #print(f\"Channel {j} in example {i} has zero variance.\")\n",
        "                zero_variance_channels.append((i, j))\n",
        "\n",
        "    if not np.all(np.isfinite(signals)):\n",
        "        print(\"Data contains non-finite values (inf or nan).\")\n",
        "    if not np.all(np.isreal(signals)):\n",
        "        print(\"Data contains complex numbers.\")\n",
        "    if np.any(np.isnan(signals)):\n",
        "        print(\"Data contains NaN values.\")\n",
        "    if len(zero_variance_channels) > 0:\n",
        "        print(f\"Data contains channels with zero variance: {zero_variance_channels}\")\n",
        "        print(f'Number of channels with zero variance: {len(zero_variance_channels)}')\n",
        "        print(f'Average number of channels with zero variance per example: {np.round((len(zero_variance_channels) / signals.shape[0]), 2)}')\n",
        "    else:\n",
        "        print(\"Data is clean.\")\n",
        "\n",
        "# Plot the signals\n",
        "plot_eeg_signals(signals_train, examples=range(0, 20), channels=[0, 1, 2, 3, 4, 5, 6, 7, 8, 9, 10, 11, 12, 13, 14, 15, 16, 17, 18, 19, 20, 21, 22])\n",
        "\n",
        "# Check data for issues\n",
        "#check_data(signals_train)\n"
      ]
    },
    {
      "cell_type": "code",
      "execution_count": null,
      "metadata": {
        "id": "LqqCsMsoZJZM"
      },
      "outputs": [],
      "source": [
        "import numpy as np\n",
        "import matplotlib.pyplot as plt\n",
        "from scipy.fftpack import fft\n",
        "\n",
        "\n",
        "nr_samples = signals_train.shape[0]\n",
        "cases = 23\n",
        "sampling_rate = 256  # in Hz\n",
        "time = np.linspace(0, 1, sampling_rate, endpoint=False)  # 1 second of data\n",
        "\n",
        "def plot_fft(signals, num_samples=1, show_only_average=False, x_lim_max=60):\n",
        "     for i in range(num_samples):\n",
        "          if not show_only_average:\n",
        "               plt.figure(figsize=(14, 14))\n",
        "          j = 0\n",
        "          for ch in range(signals[i].shape[0]):\n",
        "               # Compute the FFT\n",
        "               fft_values = fft(signals[i][ch])\n",
        "               N = len(fft_values)\n",
        "\n",
        "               # Compute the two-sided spectrum\n",
        "               P2 = np.abs(fft_values/N)\n",
        "\n",
        "               # Compute the single-sided spectrum (since the spectrum is symmetric)\n",
        "               P1 = P2[0:N//2+1]\n",
        "               P1[1:-1] = 2*P1[1:-1]\n",
        "\n",
        "               # Define the frequency axis\n",
        "               f = sampling_rate*np.arange(0,(N//2+1))/N\n",
        "               if not show_only_average:\n",
        "                    # Plot the single-sided amplitude spectrum\n",
        "                    plt.subplot(7, 4, ch+1)\n",
        "                    plt.plot(f, P1)\n",
        "                    plt.title(f'Channel {ch+1}')\n",
        "                    plt.xlabel('Frequency (Hz)')\n",
        "                    plt.ylabel('Amplitude')\n",
        "                    plt.xlim([0, x_lim_max])\n",
        "                    #plt.ylim([0, 0.1])\n",
        "\n",
        "          # Create an additional subplot for the average of all channels\n",
        "          avg_fft = np.zeros((N//2+1,))\n",
        "          for ch in range(signals[i].shape[0]):\n",
        "               fft_values = fft(signals[i][ch])\n",
        "               N = len(fft_values)\n",
        "               P2 = np.abs(fft_values/N)\n",
        "               P1 = P2[0:N//2+1]\n",
        "               P1[1:-1] = 2*P1[1:-1]\n",
        "               avg_fft += P1\n",
        "          avg_fft /= signals[i].shape[0]\n",
        "\n",
        "          if show_only_average:\n",
        "               plt.figure(figsize=(6, 2))\n",
        "          else:\n",
        "               plt.subplot(7, 4, ch+2)\n",
        "\n",
        "          plt.plot(f, avg_fft)\n",
        "          plt.title('Average of All Channels')\n",
        "          plt.xlabel('Frequency (Hz)')\n",
        "          plt.ylabel('Amplitude')\n",
        "          plt.xlim([0, x_lim_max])\n",
        "\n",
        "          if not show_only_average:\n",
        "               plt.suptitle(f'FFT of EEG Training Signals for Example {i+1}', fontsize=16)\n",
        "          else:\n",
        "               plt.title(f'Average FFT of EEG Training Signals for Example {i+1}')\n",
        "          plt.tight_layout()\n",
        "          plt.show()\n",
        "\n",
        "\n",
        "\n",
        "# Plot the FFT\n",
        "#plot_fft(signals_train, 2)"
      ]
    },
    {
      "cell_type": "code",
      "execution_count": 66,
      "metadata": {
        "id": "U_cFkwhWZJZN"
      },
      "outputs": [],
      "source": [
        "from scipy.interpolate import interp1d\n",
        "\n",
        "# Identify and interpolate zero-variance channels\n",
        "def interpolate_zero_variance_channels(signals, verbose=False):\n",
        "   for i in range(signals.shape[0]):\n",
        "      for j in range(signals.shape[1]):\n",
        "         if np.var(signals[i, j, :]) == 0:\n",
        "            if verbose:\n",
        "               print(f\"Channel {j} in example {i} has zero variance. Interpolating...\")\n",
        "\n",
        "            # Find channels that have non-zero variance\n",
        "            non_zero_channels = [k for k in range(signals.shape[1]) if np.var(signals[i, k, :]) != 0]\n",
        "\n",
        "            # If there are no non-zero channels, we can't do interpolation\n",
        "            if not non_zero_channels:\n",
        "               if verbose:\n",
        "                  print(f\"No non-zero channels found for example {i}. Cannot interpolate.\")\n",
        "               continue\n",
        "\n",
        "            # Create an interpolation function based on the non-zero channels\n",
        "            f = interp1d(non_zero_channels, signals[i, non_zero_channels, :], axis=0, fill_value='extrapolate')\n",
        "\n",
        "            # Use the interpolation function to estimate the signal for the zero-variance channel\n",
        "            signals[i, j, :] = f(j)\n",
        "\n",
        "   return signals\n",
        "\n",
        "# Interpolate zero-variance channels\n",
        "inter_signals_train = interpolate_zero_variance_channels(signals_train)\n"
      ]
    },
    {
      "cell_type": "code",
      "execution_count": 67,
      "metadata": {
        "colab": {
          "base_uri": "https://localhost:8080/",
          "height": 410
        },
        "id": "bUAtenaWZJZN",
        "outputId": "e7d4dadf-1c5b-49fd-9f76-083189c0b7bc"
      },
      "outputs": [
        {
          "output_type": "display_data",
          "data": {
            "text/plain": [
              "<Figure size 600x400 with 1 Axes>"
            ],
            "image/png": "[encoded data removed]"
          },
          "metadata": {}
        }
      ],
      "source": [
        "# Show the positive and negative class distribution\n",
        "def plot_class_distribution(labels):\n",
        "    # Count the number of positive and negative examples\n",
        "    unique, counts = np.unique(labels, return_counts=True)\n",
        "    counts_dict = dict(zip(unique, counts))\n",
        "\n",
        "    # Convert dictionary keys and values to lists\n",
        "    keys = list(counts_dict.keys())\n",
        "    values = list(counts_dict.values())\n",
        "\n",
        "    # Plot the class distribution\n",
        "    plt.figure(figsize=(6, 4))\n",
        "    plt.bar(keys, values, color=['blue', 'red'])\n",
        "    plt.xticks([0, 1], ['Negative', 'Positive'])\n",
        "    plt.xlabel('Class')\n",
        "    plt.ylabel('Count')\n",
        "    plt.title('Class Distribution')\n",
        "    plt.show()\n",
        "\n",
        "plot_class_distribution(labels_train)"
      ]
    },
    {
      "cell_type": "code",
      "execution_count": null,
      "metadata": {
        "id": "zqPvAH_CZJZN"
      },
      "outputs": [],
      "source": [
        "# Implement Butterworth filter\n",
        "from scipy.signal import butter, lfilter\n",
        "\n",
        "def butter_bandpass(lowcut, highcut, fs, order=5):\n",
        "    nyq = 0.5 * fs\n",
        "    low = lowcut / nyq\n",
        "    high = highcut / nyq\n",
        "    b, a = butter(order, [low, high], btype='band')\n",
        "    return b, a\n",
        "\n",
        "def butter_bandpass_filter(data, lowcut, highcut, fs, order=5):\n",
        "    b, a = butter_bandpass(lowcut, highcut, fs, order=order)\n",
        "    y = lfilter(b, a, data)\n",
        "    return y\n",
        "\n",
        "def apply_filter(signals, lowcut, highcut, fs):\n",
        "    filtered_signals = np.zeros(signals.shape)\n",
        "    for i in range(signals.shape[0]):\n",
        "        filtered_signals[i] = butter_bandpass_filter(signals[i], lowcut, highcut, fs)\n",
        "    return filtered_signals\n",
        "\n",
        "# Filter the signals from 1 to 40 Hz\n",
        "train_filtered = apply_filter(inter_signals_train, 1, 40, sampling_rate)\n",
        "#plot_eeg_signals(train_filtered)\n",
        "\n",
        "# Plot the FFT of the filtered signals\n",
        "plot_fft(train_filtered, 5, True, x_lim_max=130)"
      ]
    },
    {
      "cell_type": "code",
      "execution_count": 69,
      "metadata": {
        "colab": {
          "base_uri": "https://localhost:8080/"
        },
        "id": "jme2OnnJZJZN",
        "outputId": "d767bb50-90bf-402f-b834-90cb7628718c"
      },
      "outputs": [
        {
          "output_type": "stream",
          "name": "stdout",
          "text": [
            "Train data shape is (37666, 23, 256)\n",
            "Labels shape for train is (37666,)\n",
            "Length of the first filtered signal is 256\n"
          ]
        }
      ],
      "source": [
        "print('Train data shape is {}'.format(train_filtered.shape))\n",
        "print('Labels shape for train is {}'.format(labels_train.shape))\n",
        "print(f'Length of the first filtered signal is {len(train_filtered[1, 0])}')"
      ]
    },
    {
      "cell_type": "code",
      "execution_count": 70,
      "metadata": {
        "tags": [
          "parameters"
        ],
        "id": "PYrI1blFZJZN"
      },
      "outputs": [],
      "source": [
        "# Implement epoching to divide the data into X-ms epochs (we use 1000ms which is the same as the original data)\n",
        "def epoch_signals(signals, start, end, sample_rate):\n",
        "      # Calculate the number of samples per epoch\n",
        "      samples_per_epoch = int((abs(start) + abs(end)) * (sample_rate / 1000))\n",
        "\n",
        "      # Initialize an empty list to store the epochs\n",
        "      epochs = []\n",
        "\n",
        "      # Iterate over the signals\n",
        "      for signal in signals:\n",
        "            # Iterate over the channels\n",
        "            for channel in signal:\n",
        "                  # Iterate over the channel in steps of samples_per_epoch\n",
        "                  for i in range(0, len(channel), samples_per_epoch):\n",
        "                        # Extract the epoch\n",
        "                        epoch = channel[i:i+samples_per_epoch]\n",
        "\n",
        "                        # If the epoch is shorter than samples_per_epoch, discard it\n",
        "                        if len(epoch) < samples_per_epoch:\n",
        "                              continue\n",
        "\n",
        "                        # Add the epoch to the list of epochs\n",
        "                        epochs.append(epoch)\n",
        "\n",
        "      # Convert the list of epochs to a numpy array and reshape it to match the original data shape\n",
        "      epochs = np.array(epochs).reshape(len(signals), -1, samples_per_epoch)\n",
        "\n",
        "      return epochs\n",
        "\n",
        "start = 0\n",
        "end = 1000"
      ]
    },
    {
      "cell_type": "markdown",
      "metadata": {
        "id": "se5EFqSCZJZO"
      },
      "source": [
        "Several of the false cases have a skewed baseline. Below we will calculate the baseline for each channel for each case and reset the baseline to zero. This will allow the models to better compare the signals.\n",
        "\n",
        "See https://www.youtube.com/watch?v=zDTsePeDlwo&t=745s for a discussion of the baseline."
      ]
    },
    {
      "cell_type": "code",
      "execution_count": 71,
      "metadata": {
        "id": "UTGJe6K_ZJZP"
      },
      "outputs": [],
      "source": [
        "# Create a function to apply baseline correction to the data (skip epoching)\n",
        "\n",
        "def apply_baseline_correction(signals, baseline_start, baseline_end, sample_rate):\n",
        "      # Calculate the number of samples per baseline\n",
        "      samples_per_baseline = int((abs(baseline_start) + abs(baseline_end)) * (sample_rate / 1000))\n",
        "\n",
        "      # Iterate over the signals\n",
        "      for i in range(signals.shape[0]):\n",
        "         # Iterate over the channels\n",
        "         for j in range(signals.shape[1]):\n",
        "               # Iterate over the channel in steps of samples_per_baseline\n",
        "               for k in range(0, len(signals[i, j]), samples_per_baseline):\n",
        "                  # Extract the baseline\n",
        "                  baseline = signals[i, j, k:k+samples_per_baseline]\n",
        "\n",
        "                  # If the baseline is shorter than samples_per_baseline, discard it\n",
        "                  if len(baseline) < samples_per_baseline:\n",
        "                     continue\n",
        "\n",
        "                  # Subtract the mean of the baseline from the signal\n",
        "                  signals[i, j, k:k+samples_per_baseline] -= np.mean(baseline)\n",
        "\n",
        "      return signals"
      ]
    },
    {
      "cell_type": "code",
      "execution_count": 72,
      "metadata": {
        "id": "ntpGnelIZJZP"
      },
      "outputs": [],
      "source": [
        "# No epoching is necessary\n",
        "train_corrected = apply_baseline_correction(train_filtered, 0, 100, sampling_rate)\n",
        "\n",
        "val_inter_signals = interpolate_zero_variance_channels(signals_val, verbose=False)\n",
        "val_filtered = apply_filter(val_inter_signals, 1, 40, sampling_rate)\n",
        "val_corrected = apply_baseline_correction(val_filtered, 0, 100, sampling_rate)\n",
        "\n",
        "test_inter_signals = interpolate_zero_variance_channels(signals_test, verbose=False)\n",
        "test_filtered = apply_filter(test_inter_signals, 1, 40, sampling_rate)\n",
        "test_corrected = apply_baseline_correction(test_filtered, 0, 100, sampling_rate)"
      ]
    },
    {
      "cell_type": "code",
      "execution_count": null,
      "metadata": {
        "id": "1xqU6xNHZJZP"
      },
      "outputs": [],
      "source": [
        "print('Train data shape is {}'.format(train_corrected.shape))\n",
        "plot_eeg_signals(train_corrected, examples=range(0, 2), channels=[0, 1, 2, 3, 4, 5, 6, 7, 8, 9, 10, 11, 12, 13, 14, 15, 16, 17, 18, 19, 20, 21, 22])"
      ]
    },
    {
      "cell_type": "code",
      "execution_count": 74,
      "metadata": {
        "colab": {
          "base_uri": "https://localhost:8080/",
          "height": 417
        },
        "id": "RdR1ahtnZJZQ",
        "outputId": "642c526d-54a0-461a-a796-f7e27e13be0a"
      },
      "outputs": [
        {
          "output_type": "display_data",
          "data": {
            "text/html": [
              "<html>\n",
              "<head><meta charset=\"utf-8\" /></head>\n",
              "<body>\n",
              "    <div>            <script src=\"https://cdnjs.cloudflare.com/ajax/libs/mathjax/2.7.5/MathJax.js?config=TeX-AMS-MML_SVG\"></script><script type=\"text/javascript\">if (window.MathJax && window.MathJax.Hub && window.MathJax.Hub.Config) {window.MathJax.Hub.Config({SVG: {font: \"STIX-Web\"}});}</script>                <script type=\"text/javascript\">window.PlotlyConfig = {MathJaxConfig: 'local'};</script>\n",
              "        <script charset=\"utf-8\" src=\"https://cdn.plot.ly/plotly-2.24.1.min.js\"></script>                <div id=\"b066db15-fe5e-459f-8ae6-77e22eee435f\" class=\"plotly-graph-div\" style=\"height:400px; width:400px;\"></div>            <script type=\"text/javascript\">                                    window.PLOTLYENV=window.PLOTLYENV || {};                                    if (document.getElementById(\"b066db15-fe5e-459f-8ae6-77e22eee435f\")) {                    Plotly.newPlot(                        \"b066db15-fe5e-459f-8ae6-77e22eee435f\",                        [{\"marker\":{\"color\":[\"blue\",\"red\"]},\"name\":\"Mean Range of Values\",\"x\":[\"True\",\"False\"],\"y\":[300.67576253767675,130.22186753828677],\"type\":\"bar\"}],                        {\"template\":{\"data\":{\"histogram2dcontour\":[{\"type\":\"histogram2dcontour\",\"colorbar\":{\"outlinewidth\":0,\"ticks\":\"\"},\"colorscale\":[[0.0,\"#0d0887\"],[0.1111111111111111,\"#46039f\"],[0.2222222222222222,\"#7201a8\"],[0.3333333333333333,\"#9c179e\"],[0.4444444444444444,\"#bd3786\"],[0.5555555555555556,\"#d8576b\"],[0.6666666666666666,\"#ed7953\"],[0.7777777777777778,\"#fb9f3a\"],[0.8888888888888888,\"#fdca26\"],[1.0,\"#f0f921\"]]}],\"choropleth\":[{\"type\":\"choropleth\",\"colorbar\":{\"outlinewidth\":0,\"ticks\":\"\"}}],\"histogram2d\":[{\"type\":\"histogram2d\",\"colorbar\":{\"outlinewidth\":0,\"ticks\":\"\"},\"colorscale\":[[0.0,\"#0d0887\"],[0.1111111111111111,\"#46039f\"],[0.2222222222222222,\"#7201a8\"],[0.3333333333333333,\"#9c179e\"],[0.4444444444444444,\"#bd3786\"],[0.5555555555555556,\"#d8576b\"],[0.6666666666666666,\"#ed7953\"],[0.7777777777777778,\"#fb9f3a\"],[0.8888888888888888,\"#fdca26\"],[1.0,\"#f0f921\"]]}],\"heatmap\":[{\"type\":\"heatmap\",\"colorbar\":{\"outlinewidth\":0,\"ticks\":\"\"},\"colorscale\":[[0.0,\"#0d0887\"],[0.1111111111111111,\"#46039f\"],[0.2222222222222222,\"#7201a8\"],[0.3333333333333333,\"#9c179e\"],[0.4444444444444444,\"#bd3786\"],[0.5555555555555556,\"#d8576b\"],[0.6666666666666666,\"#ed7953\"],[0.7777777777777778,\"#fb9f3a\"],[0.8888888888888888,\"#fdca26\"],[1.0,\"#f0f921\"]]}],\"heatmapgl\":[{\"type\":\"heatmapgl\",\"colorbar\":{\"outlinewidth\":0,\"ticks\":\"\"},\"colorscale\":[[0.0,\"#0d0887\"],[0.1111111111111111,\"#46039f\"],[0.2222222222222222,\"#7201a8\"],[0.3333333333333333,\"#9c179e\"],[0.4444444444444444,\"#bd3786\"],[0.5555555555555556,\"#d8576b\"],[0.6666666666666666,\"#ed7953\"],[0.7777777777777778,\"#fb9f3a\"],[0.8888888888888888,\"#fdca26\"],[1.0,\"#f0f921\"]]}],\"contourcarpet\":[{\"type\":\"contourcarpet\",\"colorbar\":{\"outlinewidth\":0,\"ticks\":\"\"}}],\"contour\":[{\"type\":\"contour\",\"colorbar\":{\"outlinewidth\":0,\"ticks\":\"\"},\"colorscale\":[[0.0,\"#0d0887\"],[0.1111111111111111,\"#46039f\"],[0.2222222222222222,\"#7201a8\"],[0.3333333333333333,\"#9c179e\"],[0.4444444444444444,\"#bd3786\"],[0.5555555555555556,\"#d8576b\"],[0.6666666666666666,\"#ed7953\"],[0.7777777777777778,\"#fb9f3a\"],[0.8888888888888888,\"#fdca26\"],[1.0,\"#f0f921\"]]}],\"surface\":[{\"type\":\"surface\",\"colorbar\":{\"outlinewidth\":0,\"ticks\":\"\"},\"colorscale\":[[0.0,\"#0d0887\"],[0.1111111111111111,\"#46039f\"],[0.2222222222222222,\"#7201a8\"],[0.3333333333333333,\"#9c179e\"],[0.4444444444444444,\"#bd3786\"],[0.5555555555555556,\"#d8576b\"],[0.6666666666666666,\"#ed7953\"],[0.7777777777777778,\"#fb9f3a\"],[0.8888888888888888,\"#fdca26\"],[1.0,\"#f0f921\"]]}],\"mesh3d\":[{\"type\":\"mesh3d\",\"colorbar\":{\"outlinewidth\":0,\"ticks\":\"\"}}],\"scatter\":[{\"fillpattern\":{\"fillmode\":\"overlay\",\"size\":10,\"solidity\":0.2},\"type\":\"scatter\"}],\"parcoords\":[{\"type\":\"parcoords\",\"line\":{\"colorbar\":{\"outlinewidth\":0,\"ticks\":\"\"}}}],\"scatterpolargl\":[{\"type\":\"scatterpolargl\",\"marker\":{\"colorbar\":{\"outlinewidth\":0,\"ticks\":\"\"}}}],\"bar\":[{\"error_x\":{\"color\":\"#2a3f5f\"},\"error_y\":{\"color\":\"#2a3f5f\"},\"marker\":{\"line\":{\"color\":\"#E5ECF6\",\"width\":0.5},\"pattern\":{\"fillmode\":\"overlay\",\"size\":10,\"solidity\":0.2}},\"type\":\"bar\"}],\"scattergeo\":[{\"type\":\"scattergeo\",\"marker\":{\"colorbar\":{\"outlinewidth\":0,\"ticks\":\"\"}}}],\"scatterpolar\":[{\"type\":\"scatterpolar\",\"marker\":{\"colorbar\":{\"outlinewidth\":0,\"ticks\":\"\"}}}],\"histogram\":[{\"marker\":{\"pattern\":{\"fillmode\":\"overlay\",\"size\":10,\"solidity\":0.2}},\"type\":\"histogram\"}],\"scattergl\":[{\"type\":\"scattergl\",\"marker\":{\"colorbar\":{\"outlinewidth\":0,\"ticks\":\"\"}}}],\"scatter3d\":[{\"type\":\"scatter3d\",\"line\":{\"colorbar\":{\"outlinewidth\":0,\"ticks\":\"\"}},\"marker\":{\"colorbar\":{\"outlinewidth\":0,\"ticks\":\"\"}}}],\"scattermapbox\":[{\"type\":\"scattermapbox\",\"marker\":{\"colorbar\":{\"outlinewidth\":0,\"ticks\":\"\"}}}],\"scatterternary\":[{\"type\":\"scatterternary\",\"marker\":{\"colorbar\":{\"outlinewidth\":0,\"ticks\":\"\"}}}],\"scattercarpet\":[{\"type\":\"scattercarpet\",\"marker\":{\"colorbar\":{\"outlinewidth\":0,\"ticks\":\"\"}}}],\"carpet\":[{\"aaxis\":{\"endlinecolor\":\"#2a3f5f\",\"gridcolor\":\"white\",\"linecolor\":\"white\",\"minorgridcolor\":\"white\",\"startlinecolor\":\"#2a3f5f\"},\"baxis\":{\"endlinecolor\":\"#2a3f5f\",\"gridcolor\":\"white\",\"linecolor\":\"white\",\"minorgridcolor\":\"white\",\"startlinecolor\":\"#2a3f5f\"},\"type\":\"carpet\"}],\"table\":[{\"cells\":{\"fill\":{\"color\":\"#EBF0F8\"},\"line\":{\"color\":\"white\"}},\"header\":{\"fill\":{\"color\":\"#C8D4E3\"},\"line\":{\"color\":\"white\"}},\"type\":\"table\"}],\"barpolar\":[{\"marker\":{\"line\":{\"color\":\"#E5ECF6\",\"width\":0.5},\"pattern\":{\"fillmode\":\"overlay\",\"size\":10,\"solidity\":0.2}},\"type\":\"barpolar\"}],\"pie\":[{\"automargin\":true,\"type\":\"pie\"}]},\"layout\":{\"autotypenumbers\":\"strict\",\"colorway\":[\"#636efa\",\"#EF553B\",\"#00cc96\",\"#ab63fa\",\"#FFA15A\",\"#19d3f3\",\"#FF6692\",\"#B6E880\",\"#FF97FF\",\"#FECB52\"],\"font\":{\"color\":\"#2a3f5f\"},\"hovermode\":\"closest\",\"hoverlabel\":{\"align\":\"left\"},\"paper_bgcolor\":\"white\",\"plot_bgcolor\":\"#E5ECF6\",\"polar\":{\"bgcolor\":\"#E5ECF6\",\"angularaxis\":{\"gridcolor\":\"white\",\"linecolor\":\"white\",\"ticks\":\"\"},\"radialaxis\":{\"gridcolor\":\"white\",\"linecolor\":\"white\",\"ticks\":\"\"}},\"ternary\":{\"bgcolor\":\"#E5ECF6\",\"aaxis\":{\"gridcolor\":\"white\",\"linecolor\":\"white\",\"ticks\":\"\"},\"baxis\":{\"gridcolor\":\"white\",\"linecolor\":\"white\",\"ticks\":\"\"},\"caxis\":{\"gridcolor\":\"white\",\"linecolor\":\"white\",\"ticks\":\"\"}},\"coloraxis\":{\"colorbar\":{\"outlinewidth\":0,\"ticks\":\"\"}},\"colorscale\":{\"sequential\":[[0.0,\"#0d0887\"],[0.1111111111111111,\"#46039f\"],[0.2222222222222222,\"#7201a8\"],[0.3333333333333333,\"#9c179e\"],[0.4444444444444444,\"#bd3786\"],[0.5555555555555556,\"#d8576b\"],[0.6666666666666666,\"#ed7953\"],[0.7777777777777778,\"#fb9f3a\"],[0.8888888888888888,\"#fdca26\"],[1.0,\"#f0f921\"]],\"sequentialminus\":[[0.0,\"#0d0887\"],[0.1111111111111111,\"#46039f\"],[0.2222222222222222,\"#7201a8\"],[0.3333333333333333,\"#9c179e\"],[0.4444444444444444,\"#bd3786\"],[0.5555555555555556,\"#d8576b\"],[0.6666666666666666,\"#ed7953\"],[0.7777777777777778,\"#fb9f3a\"],[0.8888888888888888,\"#fdca26\"],[1.0,\"#f0f921\"]],\"diverging\":[[0,\"#8e0152\"],[0.1,\"#c51b7d\"],[0.2,\"#de77ae\"],[0.3,\"#f1b6da\"],[0.4,\"#fde0ef\"],[0.5,\"#f7f7f7\"],[0.6,\"#e6f5d0\"],[0.7,\"#b8e186\"],[0.8,\"#7fbc41\"],[0.9,\"#4d9221\"],[1,\"#276419\"]]},\"xaxis\":{\"gridcolor\":\"white\",\"linecolor\":\"white\",\"ticks\":\"\",\"title\":{\"standoff\":15},\"zerolinecolor\":\"white\",\"automargin\":true,\"zerolinewidth\":2},\"yaxis\":{\"gridcolor\":\"white\",\"linecolor\":\"white\",\"ticks\":\"\",\"title\":{\"standoff\":15},\"zerolinecolor\":\"white\",\"automargin\":true,\"zerolinewidth\":2},\"scene\":{\"xaxis\":{\"backgroundcolor\":\"#E5ECF6\",\"gridcolor\":\"white\",\"linecolor\":\"white\",\"showbackground\":true,\"ticks\":\"\",\"zerolinecolor\":\"white\",\"gridwidth\":2},\"yaxis\":{\"backgroundcolor\":\"#E5ECF6\",\"gridcolor\":\"white\",\"linecolor\":\"white\",\"showbackground\":true,\"ticks\":\"\",\"zerolinecolor\":\"white\",\"gridwidth\":2},\"zaxis\":{\"backgroundcolor\":\"#E5ECF6\",\"gridcolor\":\"white\",\"linecolor\":\"white\",\"showbackground\":true,\"ticks\":\"\",\"zerolinecolor\":\"white\",\"gridwidth\":2}},\"shapedefaults\":{\"line\":{\"color\":\"#2a3f5f\"}},\"annotationdefaults\":{\"arrowcolor\":\"#2a3f5f\",\"arrowhead\":0,\"arrowwidth\":1},\"geo\":{\"bgcolor\":\"white\",\"landcolor\":\"#E5ECF6\",\"subunitcolor\":\"white\",\"showland\":true,\"showlakes\":true,\"lakecolor\":\"white\"},\"title\":{\"x\":0.05},\"mapbox\":{\"style\":\"light\"}}},\"title\":{\"text\":\"Mean Range of Values for All Channels\\u003cbr\\u003e Averaged Together Over All Examples\",\"x\":0.5},\"xaxis\":{\"title\":{\"text\":\"True and False Examples\"}},\"yaxis\":{\"title\":{\"text\":\"Mean Range of Values\"}},\"barmode\":\"group\",\"width\":400,\"height\":400},                        {\"responsive\": true}                    ).then(function(){\n",
              "                            \n",
              "var gd = document.getElementById('b066db15-fe5e-459f-8ae6-77e22eee435f');\n",
              "var x = new MutationObserver(function (mutations, observer) {{\n",
              "        var display = window.getComputedStyle(gd).display;\n",
              "        if (!display || display === 'none') {{\n",
              "            console.log([gd, 'removed!']);\n",
              "            Plotly.purge(gd);\n",
              "            observer.disconnect();\n",
              "        }}\n",
              "}});\n",
              "\n",
              "// Listen for the removal of the full notebook cells\n",
              "var notebookContainer = gd.closest('#notebook-container');\n",
              "if (notebookContainer) {{\n",
              "    x.observe(notebookContainer, {childList: true});\n",
              "}}\n",
              "\n",
              "// Listen for the clearing of the current output cell\n",
              "var outputEl = gd.closest('.output');\n",
              "if (outputEl) {{\n",
              "    x.observe(outputEl, {childList: true});\n",
              "}}\n",
              "\n",
              "                        })                };                            </script>        </div>\n",
              "</body>\n",
              "</html>"
            ]
          },
          "metadata": {}
        }
      ],
      "source": [
        "# Show the mean range of values for all channels averaged together over all examples\n",
        "import plotly.graph_objects as go\n",
        "\n",
        "def plot_mean_range(signals):\n",
        "    # Create a figure\n",
        "    fig = go.Figure()\n",
        "    example_means_true = []\n",
        "    example_means_false = []\n",
        "\n",
        "    for i in range(signals.shape[0]):\n",
        "        # Calculate the mean range of values for all channels\n",
        "        mean_range = np.mean(np.ptp(signals[i], axis=1))\n",
        "        if labels_train[i] == 1:\n",
        "            example_means_true.append(mean_range)\n",
        "        else:\n",
        "            example_means_false.append(mean_range)\n",
        "\n",
        "    trues_mean = np.mean(example_means_true)\n",
        "    falses_mean = np.mean(example_means_false)\n",
        "\n",
        "    # Plot the two means a bar chart\n",
        "    fig.add_trace(go.Bar(x=['True', 'False'], y=[trues_mean, falses_mean], name='Mean Range of Values', marker_color= ['blue', 'red']))\n",
        "\n",
        "    # Set the figure layout\n",
        "    fig.update_layout(\n",
        "        title='Mean Range of Values for All Channels<br> Averaged Together Over All Examples',\n",
        "        title_x=0.5,\n",
        "        xaxis_title='True and False Examples',\n",
        "        yaxis_title='Mean Range of Values',\n",
        "        barmode='group',\n",
        "        width=400,\n",
        "        height=400\n",
        "    )\n",
        "\n",
        "    # Show the figure\n",
        "    fig.show()\n",
        "\n",
        "plot_mean_range(train_corrected)"
      ]
    },
    {
      "cell_type": "markdown",
      "metadata": {
        "id": "WLBniWcBZJZQ"
      },
      "source": [
        "The above chart demonstrates that perhaps large value ranges (transients) are actual seizure-predictive features. However, they could also be blinking or other movement artifacts, and the real range of the signals is much smaller (closer to the range of the negative cases)."
      ]
    },
    {
      "cell_type": "code",
      "execution_count": 75,
      "metadata": {
        "id": "4zC22uF6ZJZQ"
      },
      "outputs": [],
      "source": [
        "# Implement a function to remove channels with extreme values (e.g. > 1000 µV)\n",
        "def remove_extreme_channels(signals, threshold):\n",
        "    # Iterate over the signals\n",
        "    for i in range(signals.shape[0]):\n",
        "        # Iterate over the channels\n",
        "        for j in range(signals.shape[1]):\n",
        "            # If the channel has an extreme value, set it to zero\n",
        "            if np.max(np.abs(signals[i, j])) > threshold:\n",
        "                signals[i, j] = range(signals[i, j].shape[0])\n",
        "\n",
        "    return signals\n",
        "\n",
        "# Remove channels with extreme values\n",
        "#train_cleaned = remove_extreme_channels(train_corrected, 300)\n",
        "\n",
        "# Interpolate zero-variance channels\n",
        "#train_cleaned = interpolate_zero_variance_channels(train_cleaned)"
      ]
    },
    {
      "cell_type": "code",
      "execution_count": 76,
      "metadata": {
        "id": "TCnjCStWZJZQ"
      },
      "outputs": [],
      "source": [
        "# Implement a function to sum the channels together\n",
        "def average_channels(signals):\n",
        "      # Sum the channels together\n",
        "      summed_signals = np.sum(signals, axis=1)\n",
        "\n",
        "      return summed_signals\n",
        "\n",
        "# Average the channels together\n",
        "#train_averaged = average_channels(train_corrected)\n",
        "#val_averaged = average_channels(val_corrected)\n",
        "#test_averaged = average_channels(test_corrected)\n"
      ]
    },
    {
      "cell_type": "markdown",
      "metadata": {
        "id": "PAmK17zoZJZQ"
      },
      "source": [
        "So far, epoching, summing channels, and interpolating extreme channels have not improved the accuracy of our model.\n",
        "\n",
        "However, interpolating missing channels, filtering at 40Hz, and doing baseline correction between 0 and 100 samples have improved the accuracy of our model.\n",
        "\n",
        "XDAWN was not applied to the averaged channels for obvious reasons, but it has been applied to all other techniques."
      ]
    },
    {
      "cell_type": "markdown",
      "metadata": {
        "id": "3DtCw532ZJZQ"
      },
      "source": [
        "Below we are implementing XDAWN covariance matrix estimation. We will use the XDAWN algorithm to estimate the covariance matrix of the data to reduce dimensionality, training the classifier on the matrix as opposed to the raw data."
      ]
    },
    {
      "cell_type": "code",
      "execution_count": 77,
      "metadata": {
        "id": "owJiaxpmZJZQ"
      },
      "outputs": [],
      "source": [
        "from pyriemann.estimation import XdawnCovariances\n",
        "\n",
        "# Initialize the XdawnCovariances object\n",
        "xdawn = XdawnCovariances(nfilter=5, applyfilters=False)  # nfilter is the number of spatial filters\n",
        "\n",
        "xdawn.fit(train_corrected, labels_train)\n",
        "\n",
        "train_xdawn = xdawn.transform(train_corrected)\n",
        "val_xdawn = xdawn.transform(val_corrected)\n",
        "test_xdawn = xdawn.transform(test_corrected)\n",
        "\n",
        "# *_xdawn now contain the XDAWN covariance matrices for each epoch per dataset"
      ]
    },
    {
      "cell_type": "code",
      "execution_count": 78,
      "metadata": {
        "colab": {
          "base_uri": "https://localhost:8080/"
        },
        "id": "fDjYYbR_ZJZQ",
        "outputId": "5fd1b09f-a87d-48e3-f1e9-0f2d8fdd7d46"
      },
      "outputs": [
        {
          "output_type": "stream",
          "name": "stdout",
          "text": [
            "XDAWN train 2D shape: (37666, 1089)\n"
          ]
        }
      ],
      "source": [
        "# Rename the training and validation sets\n",
        "X_train, X_test, y_train, y_test = train_xdawn, val_xdawn, labels_train, labels_val\n",
        "\n",
        "# Reshape the XDAWN covariance matrices into a 2D array for the classifier\n",
        "X_train_2d = X_train.reshape(X_train.shape[0], -1)\n",
        "X_test_2d = X_test.reshape(X_test.shape[0], -1)\n",
        "test_2D = test_xdawn.reshape(test_xdawn.shape[0], -1)\n",
        "print('XDAWN train 2D shape:', X_train_2d.shape)\n",
        "\n",
        "# Combine the training and validation sets\n",
        "X_train_all = np.vstack((X_train_2d, X_test_2d))\n",
        "y_train_all = np.hstack((y_train, y_test))"
      ]
    },
    {
      "cell_type": "code",
      "execution_count": 90,
      "metadata": {
        "colab": {
          "base_uri": "https://localhost:8080/"
        },
        "id": "RwJm_CvAZJZS",
        "outputId": "79c0cb46-1f30-4896-e28d-c245c48b081d"
      },
      "outputs": [
        {
          "output_type": "stream",
          "name": "stdout",
          "text": [
            "Deep and Wide summary:\n",
            "Model: \"deep_and_wide\"\n",
            "__________________________________________________________________________________________________\n",
            " Layer (type)                Output Shape                 Param #   Connected to                  \n",
            "==================================================================================================\n",
            " input_21 (InputLayer)       [(None, 1089)]               0         []                            \n",
            "                                                                                                  \n",
            " normalization_20 (Normaliz  (None, 1089)                 2179      ['input_21[0][0]']            \n",
            " ation)                                                                                           \n",
            "                                                                                                  \n",
            " Dense_1 (Dense)             (None, 32)                   34880     ['normalization_20[0][0]']    \n",
            "                                                                                                  \n",
            " dropout_180 (Dropout)       (None, 32)                   0         ['Dense_1[0][0]']             \n",
            "                                                                                                  \n",
            " batch_normalization_160 (B  (None, 32)                   128       ['dropout_180[0][0]']         \n",
            " atchNormalization)                                                                               \n",
            "                                                                                                  \n",
            " Dense_2 (Dense)             (None, 32)                   1056      ['batch_normalization_160[0][0\n",
            "                                                                    ]']                           \n",
            "                                                                                                  \n",
            " dropout_181 (Dropout)       (None, 32)                   0         ['Dense_2[0][0]']             \n",
            "                                                                                                  \n",
            " batch_normalization_161 (B  (None, 32)                   128       ['dropout_181[0][0]']         \n",
            " atchNormalization)                                                                               \n",
            "                                                                                                  \n",
            " Dense_3 (Dense)             (None, 32)                   1056      ['batch_normalization_161[0][0\n",
            "                                                                    ]']                           \n",
            "                                                                                                  \n",
            " dropout_182 (Dropout)       (None, 32)                   0         ['Dense_3[0][0]']             \n",
            "                                                                                                  \n",
            " batch_normalization_162 (B  (None, 32)                   128       ['dropout_182[0][0]']         \n",
            " atchNormalization)                                                                               \n",
            "                                                                                                  \n",
            " Dense_4 (Dense)             (None, 32)                   1056      ['batch_normalization_162[0][0\n",
            "                                                                    ]']                           \n",
            "                                                                                                  \n",
            " dropout_183 (Dropout)       (None, 32)                   0         ['Dense_4[0][0]']             \n",
            "                                                                                                  \n",
            " batch_normalization_163 (B  (None, 32)                   128       ['dropout_183[0][0]']         \n",
            " atchNormalization)                                                                               \n",
            "                                                                                                  \n",
            " Dense_5 (Dense)             (None, 32)                   1056      ['batch_normalization_163[0][0\n",
            "                                                                    ]']                           \n",
            "                                                                                                  \n",
            " dropout_184 (Dropout)       (None, 32)                   0         ['Dense_5[0][0]']             \n",
            "                                                                                                  \n",
            " batch_normalization_164 (B  (None, 32)                   128       ['dropout_184[0][0]']         \n",
            " atchNormalization)                                                                               \n",
            "                                                                                                  \n",
            " Dense_6 (Dense)             (None, 128)                  4224      ['batch_normalization_164[0][0\n",
            "                                                                    ]']                           \n",
            "                                                                                                  \n",
            " dropout_185 (Dropout)       (None, 128)                  0         ['Dense_6[0][0]']             \n",
            "                                                                                                  \n",
            " batch_normalization_165 (B  (None, 128)                  512       ['dropout_185[0][0]']         \n",
            " atchNormalization)                                                                               \n",
            "                                                                                                  \n",
            " Dense_7 (Dense)             (None, 128)                  16512     ['batch_normalization_165[0][0\n",
            "                                                                    ]']                           \n",
            "                                                                                                  \n",
            " dropout_186 (Dropout)       (None, 128)                  0         ['Dense_7[0][0]']             \n",
            "                                                                                                  \n",
            " concatenate_20 (Concatenat  (None, 1345)                 0         ['normalization_20[0][0]',    \n",
            " e)                                                                  'dropout_185[0][0]',         \n",
            "                                                                     'dropout_186[0][0]']         \n",
            "                                                                                                  \n",
            " dense_19 (Dense)            (None, 1)                    1346      ['concatenate_20[0][0]']      \n",
            "                                                                                                  \n",
            "==================================================================================================\n",
            "Total params: 64517 (252.02 KB)\n",
            "Trainable params: 61762 (241.26 KB)\n",
            "Non-trainable params: 2755 (10.77 KB)\n",
            "__________________________________________________________________________________________________\n"
          ]
        }
      ],
      "source": [
        "from tensorflow.keras import layers, Model, optimizers, callbacks\n",
        "import tensorflow as tf\n",
        "\n",
        "input_ = layers.Input(shape=X_train_2d.shape[1])\n",
        "# Define the layers\n",
        "normalizer = layers.Normalization()\n",
        "normalizer.adapt(X_train_2d)\n",
        "normalization_layer = normalizer(input_)\n",
        "hidden_layer1 = layers.Dense(32, activation=\"relu\", kernel_initializer='he_normal', name='Dense_1')(normalization_layer)\n",
        "dropout1 = layers.Dropout(0.25)(hidden_layer1)\n",
        "batch_norm_1 = layers.BatchNormalization()(dropout1)\n",
        "hidden_layer2 = layers.Dense(32, activation=\"relu\", kernel_initializer='he_normal', name='Dense_2')(batch_norm_1)\n",
        "dropout2 = layers.Dropout(0.25)(hidden_layer2)\n",
        "batch_norm_2 = layers.BatchNormalization()(dropout2)\n",
        "hidden_layer3 = layers.Dense(32, activation=\"relu\", kernel_initializer='he_normal', name='Dense_3')(batch_norm_2)\n",
        "dropout3 = layers.Dropout(0.25)(hidden_layer3)\n",
        "batch_norm_3 = layers.BatchNormalization()(dropout3)\n",
        "hidden_layer4 = layers.Dense(32, activation=\"relu\", kernel_initializer='he_normal', name='Dense_4')(batch_norm_3)\n",
        "dropout4 = layers.Dropout(0.25)(hidden_layer4)\n",
        "batch_norm_4 = layers.BatchNormalization()(dropout4)\n",
        "hidden_layer5 = layers.Dense(32, activation=\"relu\", kernel_initializer='he_normal', name='Dense_5')(batch_norm_4)\n",
        "dropout5 = layers.Dropout(0.25)(hidden_layer5)\n",
        "batch_norm_5 = layers.BatchNormalization()(dropout5)\n",
        "hidden_layer6 = layers.Dense(128, activation=\"relu\", kernel_initializer='he_normal', name='Dense_6')(batch_norm_5)\n",
        "dropout6 = layers.Dropout(0.5)(hidden_layer6)\n",
        "batch_norm_6 = layers.BatchNormalization()(dropout6)\n",
        "hidden_layer7 = layers.Dense(128, activation=\"relu\", kernel_initializer='he_normal', name='Dense_7')(batch_norm_6)\n",
        "dropout7 = layers.Dropout(0.5)(hidden_layer7)\n",
        "batch_norm_7 = layers.BatchNormalization()(dropout7)\n",
        "hidden_layer8 = layers.Dense(128, activation=\"relu\", kernel_initializer='he_normal', name='Dense_8')(batch_norm_7)\n",
        "dropout8 = layers.Dropout(0.5)(hidden_layer8)\n",
        "batch_norm_8 = layers.BatchNormalization()(dropout8)\n",
        "hidden_layer9 = layers.Dense(128, activation=\"relu\", kernel_initializer='he_normal', name='Dense_9')(batch_norm_8)\n",
        "dropout9 = layers.Dropout(0.5)(hidden_layer9)\n",
        "\n",
        "concat_layer = layers.Concatenate()\n",
        "concat_layer = concat_layer([normalization_layer, dropout6,dropout7])\n",
        "output_layer = layers.Dense(1, activation='sigmoid')(concat_layer)\n",
        "\n",
        "# Define the model\n",
        "model = Model(inputs=[input_], outputs=[output_layer])\n",
        "\n",
        "# Define the model\n",
        "deep_and_wide = Model(inputs=[input_], outputs=[output_layer], name='deep_and_wide')\n",
        "\n",
        "\n",
        "# Compile the model\n",
        "deep_and_wide.compile(\n",
        "            optimizer=optimizers.Adam(learning_rate=0.001),\n",
        "            loss='binary_crossentropy',\n",
        "            metrics=['accuracy'],\n",
        "            sample_weight_mode=None,\n",
        "        )\n",
        "\n",
        "# Print the summary of the models\n",
        "#print('Base model summary:')\n",
        "#base.summary()\n",
        "\n",
        "#print('CNN model summary:')\n",
        "#cnn.summary()\n",
        "\n",
        "#print('Deep sequential summary:')\n",
        "#deep_sequential.summary()\n",
        "\n",
        "print('Deep and Wide summary:')\n",
        "deep_and_wide.summary()\n",
        "\n",
        "# Implement early stopping, tensorboard callbacks, and a learning rate scheduler\n",
        "early_stopping = callbacks.EarlyStopping(\n",
        "    monitor='val_accuracy', # what to monitor\n",
        "    patience=5, # how many epochs to wait before stopping\n",
        "    restore_best_weights=True,\n",
        ")\n",
        "\n",
        "tensorboard_callback = callbacks.TensorBoard(\n",
        "    log_dir='logs',\n",
        "    histogram_freq=1,\n",
        "    write_graph=True,\n",
        "    update_freq='epoch',\n",
        "    profile_batch=2,\n",
        "    embeddings_freq=0,\n",
        "    embeddings_metadata=None\n",
        "\n",
        ")\n",
        "\n",
        "lr_scheduler = callbacks.ReduceLROnPlateau(\n",
        "   monitor='val_accuracy',\n",
        "   factor=0.1,\n",
        "   patience=3,\n",
        "   verbose=1,\n",
        "   min_lr=0.001)\n"
      ]
    },
    {
      "cell_type": "code",
      "source": [
        "# Assume we have 1000 samples and 10 time steps\n",
        "num_samples = 37666\n",
        "\n",
        "# Get the number of true and false samples\n",
        "num_true_samples = np.sum(y_train)\n",
        "num_false_samples = num_samples - num_true_samples\n",
        "\n",
        "# We'll give a higher weight to the first half of the samples\n",
        "sample_weight = np.zeros(num_samples)\n",
        "for i in range(num_samples):\n",
        "    if y_train[i] == 1:\n",
        "        sample_weight[i] = 1\n",
        "    else:\n",
        "        sample_weight[i] = 0.5\n",
        "\n",
        "\n",
        "# Train the deep_and_wide model\n",
        "deep_and_wide_history = deep_and_wide.fit(X_train_2d, y_train,\n",
        "                        validation_data=(X_test_2d, y_test),\n",
        "                        epochs=100,\n",
        "                        shuffle=True,\n",
        "                        steps_per_epoch=X_train_2d.shape[0] // 16,\n",
        "                        validation_steps=X_test_2d.shape[0] // 16,\n",
        "                        batch_size=16,\n",
        "                        callbacks=[tensorboard_callback, early_stopping, lr_scheduler])\n",
        "# Evaluate the deep_and_wide model\n",
        "deep_and_wide_accuracy = deep_and_wide.evaluate(X_test_2d, y_test)[1]\n",
        "print(f\"Deep and wide model accuracy: {deep_and_wide_accuracy * 100}%\")"
      ],
      "metadata": {
        "colab": {
          "base_uri": "https://localhost:8080/"
        },
        "id": "jGhUqeC_c9BB",
        "outputId": "c42fe75f-3e69-4dd1-c14a-76b041d531a4"
      },
      "execution_count": 91,
      "outputs": [
        {
          "output_type": "stream",
          "name": "stdout",
          "text": [
            "Epoch 1/100\n",
            "2354/2354 [==============================] - 20s 7ms/step - loss: 0.4108 - accuracy: 0.8459 - val_loss: 0.3770 - val_accuracy: 0.8461 - lr: 0.0010\n",
            "Epoch 2/100\n",
            "2354/2354 [==============================] - 15s 6ms/step - loss: 0.3708 - accuracy: 0.8605 - val_loss: 0.3733 - val_accuracy: 0.8579 - lr: 0.0010\n",
            "Epoch 3/100\n",
            "2354/2354 [==============================] - 15s 7ms/step - loss: 0.3519 - accuracy: 0.8652 - val_loss: 0.4335 - val_accuracy: 0.8549 - lr: 0.0010\n",
            "Epoch 4/100\n",
            "2354/2354 [==============================] - 16s 7ms/step - loss: 0.3413 - accuracy: 0.8682 - val_loss: 0.3434 - val_accuracy: 0.8589 - lr: 0.0010\n",
            "Epoch 5/100\n",
            "2354/2354 [==============================] - 15s 7ms/step - loss: 0.3259 - accuracy: 0.8714 - val_loss: 0.3392 - val_accuracy: 0.8607 - lr: 0.0010\n",
            "Epoch 6/100\n",
            "2354/2354 [==============================] - 17s 7ms/step - loss: 0.3187 - accuracy: 0.8746 - val_loss: 0.3191 - val_accuracy: 0.8700 - lr: 0.0010\n",
            "Epoch 7/100\n",
            "2354/2354 [==============================] - 18s 8ms/step - loss: 0.3126 - accuracy: 0.8785 - val_loss: 0.3035 - val_accuracy: 0.8704 - lr: 0.0010\n",
            "Epoch 8/100\n",
            "2354/2354 [==============================] - 16s 7ms/step - loss: 0.2996 - accuracy: 0.8826 - val_loss: 0.3194 - val_accuracy: 0.8717 - lr: 0.0010\n",
            "Epoch 9/100\n",
            "2354/2354 [==============================] - 18s 8ms/step - loss: 0.2876 - accuracy: 0.8857 - val_loss: 0.3094 - val_accuracy: 0.8710 - lr: 0.0010\n",
            "Epoch 10/100\n",
            "2354/2354 [==============================] - 18s 8ms/step - loss: 0.2928 - accuracy: 0.8883 - val_loss: 0.2946 - val_accuracy: 0.8775 - lr: 0.0010\n",
            "Epoch 11/100\n",
            "2354/2354 [==============================] - 16s 7ms/step - loss: 0.2831 - accuracy: 0.8926 - val_loss: 0.2986 - val_accuracy: 0.8779 - lr: 0.0010\n",
            "Epoch 12/100\n",
            "2354/2354 [==============================] - 16s 7ms/step - loss: 0.2858 - accuracy: 0.8913 - val_loss: 0.3079 - val_accuracy: 0.8807 - lr: 0.0010\n",
            "Epoch 13/100\n",
            "2354/2354 [==============================] - 15s 7ms/step - loss: 0.2823 - accuracy: 0.8960 - val_loss: 0.2961 - val_accuracy: 0.8760 - lr: 0.0010\n",
            "Epoch 14/100\n",
            "2354/2354 [==============================] - 16s 7ms/step - loss: 0.2794 - accuracy: 0.8939 - val_loss: 0.2877 - val_accuracy: 0.8800 - lr: 0.0010\n",
            "Epoch 15/100\n",
            "2354/2354 [==============================] - 16s 7ms/step - loss: 0.2694 - accuracy: 0.8977 - val_loss: 0.3007 - val_accuracy: 0.8746 - lr: 0.0010\n",
            "Epoch 16/100\n",
            "2354/2354 [==============================] - 15s 7ms/step - loss: 0.2658 - accuracy: 0.9006 - val_loss: 0.3429 - val_accuracy: 0.8715 - lr: 0.0010\n",
            "Epoch 17/100\n",
            "2354/2354 [==============================] - 17s 7ms/step - loss: 0.2703 - accuracy: 0.9000 - val_loss: 0.3060 - val_accuracy: 0.8715 - lr: 0.0010\n",
            "253/253 [==============================] - 1s 4ms/step - loss: 0.3078 - accuracy: 0.8807\n",
            "Deep and wide model accuracy: 88.0683958530426%\n"
          ]
        }
      ]
    },
    {
      "cell_type": "code",
      "execution_count": 92,
      "metadata": {
        "id": "-oxRCUTiZJZS",
        "colab": {
          "base_uri": "https://localhost:8080/",
          "height": 617
        },
        "outputId": "039dff66-776c-4627-ac00-d48019eaefe7"
      },
      "outputs": [
        {
          "output_type": "display_data",
          "data": {
            "text/html": [
              "<html>\n",
              "<head><meta charset=\"utf-8\" /></head>\n",
              "<body>\n",
              "    <div>            <script src=\"https://cdnjs.cloudflare.com/ajax/libs/mathjax/2.7.5/MathJax.js?config=TeX-AMS-MML_SVG\"></script><script type=\"text/javascript\">if (window.MathJax && window.MathJax.Hub && window.MathJax.Hub.Config) {window.MathJax.Hub.Config({SVG: {font: \"STIX-Web\"}});}</script>                <script type=\"text/javascript\">window.PlotlyConfig = {MathJaxConfig: 'local'};</script>\n",
              "        <script charset=\"utf-8\" src=\"https://cdn.plot.ly/plotly-2.24.1.min.js\"></script>                <div id=\"e34624df-b964-4ea8-afe9-da3df67baacf\" class=\"plotly-graph-div\" style=\"height:600px; width:800px;\"></div>            <script type=\"text/javascript\">                                    window.PLOTLYENV=window.PLOTLYENV || {};                                    if (document.getElementById(\"e34624df-b964-4ea8-afe9-da3df67baacf\")) {                    Plotly.newPlot(                        \"e34624df-b964-4ea8-afe9-da3df67baacf\",                        [{\"mode\":\"lines\",\"name\":\"Training Loss\",\"x\":[1,2,3,4,5,6,7,8,9,10,11,12,13,14,15,16,17],\"y\":[0.4107568860054016,0.3708125054836273,0.35193881392478943,0.34134790301322937,0.32592055201530457,0.31867334246635437,0.31261175870895386,0.2996031641960144,0.28755438327789307,0.29278314113616943,0.2830815315246582,0.2858419716358185,0.28234004974365234,0.2794209420681,0.26941564679145813,0.2658344507217407,0.2703295648097992],\"type\":\"scatter\"},{\"mode\":\"lines\",\"name\":\"Validation Loss\",\"x\":[1,2,3,4,5,6,7,8,9,10,11,12,13,14,15,16,17],\"y\":[0.37702086567878723,0.3733021914958954,0.433533638715744,0.3433820307254791,0.33923959732055664,0.31911203265190125,0.30349984765052795,0.3194297254085541,0.30936387181282043,0.29455047845840454,0.2986205816268921,0.30788201093673706,0.29613205790519714,0.2876965403556824,0.300667405128479,0.34287407994270325,0.305986613035202],\"type\":\"scatter\"},{\"mode\":\"lines\",\"name\":\"Training Accuracy\",\"x\":[1,2,3,4,5,6,7,8,9,10,11,12,13,14,15,16,17],\"y\":[0.8458740711212158,0.860531210899353,0.8652324080467224,0.8681806325912476,0.871367871761322,0.8745816946029663,0.8784595131874084,0.8826029300689697,0.8857370615005493,0.8882603049278259,0.8925631046295166,0.8913413286209106,0.89604252576828,0.8938645124435425,0.8976892232894897,0.9006108641624451,0.899973452091217],\"type\":\"scatter\"},{\"mode\":\"lines\",\"name\":\"Validation Accuracy\",\"x\":[1,2,3,4,5,6,7,8,9,10,11,12,13,14,15,16,17],\"y\":[0.8461061716079712,0.8578869104385376,0.8549107313156128,0.8588789701461792,0.8607391119003296,0.870039701461792,0.8704116940498352,0.8716517686843872,0.8710317611694336,0.877480149269104,0.877852201461792,0.8807043433189392,0.8759920597076416,0.879960298538208,0.874627947807312,0.8715277910232544,0.8715277910232544],\"type\":\"scatter\"}],                        {\"template\":{\"data\":{\"histogram2dcontour\":[{\"type\":\"histogram2dcontour\",\"colorbar\":{\"outlinewidth\":0,\"ticks\":\"\"},\"colorscale\":[[0.0,\"#0d0887\"],[0.1111111111111111,\"#46039f\"],[0.2222222222222222,\"#7201a8\"],[0.3333333333333333,\"#9c179e\"],[0.4444444444444444,\"#bd3786\"],[0.5555555555555556,\"#d8576b\"],[0.6666666666666666,\"#ed7953\"],[0.7777777777777778,\"#fb9f3a\"],[0.8888888888888888,\"#fdca26\"],[1.0,\"#f0f921\"]]}],\"choropleth\":[{\"type\":\"choropleth\",\"colorbar\":{\"outlinewidth\":0,\"ticks\":\"\"}}],\"histogram2d\":[{\"type\":\"histogram2d\",\"colorbar\":{\"outlinewidth\":0,\"ticks\":\"\"},\"colorscale\":[[0.0,\"#0d0887\"],[0.1111111111111111,\"#46039f\"],[0.2222222222222222,\"#7201a8\"],[0.3333333333333333,\"#9c179e\"],[0.4444444444444444,\"#bd3786\"],[0.5555555555555556,\"#d8576b\"],[0.6666666666666666,\"#ed7953\"],[0.7777777777777778,\"#fb9f3a\"],[0.8888888888888888,\"#fdca26\"],[1.0,\"#f0f921\"]]}],\"heatmap\":[{\"type\":\"heatmap\",\"colorbar\":{\"outlinewidth\":0,\"ticks\":\"\"},\"colorscale\":[[0.0,\"#0d0887\"],[0.1111111111111111,\"#46039f\"],[0.2222222222222222,\"#7201a8\"],[0.3333333333333333,\"#9c179e\"],[0.4444444444444444,\"#bd3786\"],[0.5555555555555556,\"#d8576b\"],[0.6666666666666666,\"#ed7953\"],[0.7777777777777778,\"#fb9f3a\"],[0.8888888888888888,\"#fdca26\"],[1.0,\"#f0f921\"]]}],\"heatmapgl\":[{\"type\":\"heatmapgl\",\"colorbar\":{\"outlinewidth\":0,\"ticks\":\"\"},\"colorscale\":[[0.0,\"#0d0887\"],[0.1111111111111111,\"#46039f\"],[0.2222222222222222,\"#7201a8\"],[0.3333333333333333,\"#9c179e\"],[0.4444444444444444,\"#bd3786\"],[0.5555555555555556,\"#d8576b\"],[0.6666666666666666,\"#ed7953\"],[0.7777777777777778,\"#fb9f3a\"],[0.8888888888888888,\"#fdca26\"],[1.0,\"#f0f921\"]]}],\"contourcarpet\":[{\"type\":\"contourcarpet\",\"colorbar\":{\"outlinewidth\":0,\"ticks\":\"\"}}],\"contour\":[{\"type\":\"contour\",\"colorbar\":{\"outlinewidth\":0,\"ticks\":\"\"},\"colorscale\":[[0.0,\"#0d0887\"],[0.1111111111111111,\"#46039f\"],[0.2222222222222222,\"#7201a8\"],[0.3333333333333333,\"#9c179e\"],[0.4444444444444444,\"#bd3786\"],[0.5555555555555556,\"#d8576b\"],[0.6666666666666666,\"#ed7953\"],[0.7777777777777778,\"#fb9f3a\"],[0.8888888888888888,\"#fdca26\"],[1.0,\"#f0f921\"]]}],\"surface\":[{\"type\":\"surface\",\"colorbar\":{\"outlinewidth\":0,\"ticks\":\"\"},\"colorscale\":[[0.0,\"#0d0887\"],[0.1111111111111111,\"#46039f\"],[0.2222222222222222,\"#7201a8\"],[0.3333333333333333,\"#9c179e\"],[0.4444444444444444,\"#bd3786\"],[0.5555555555555556,\"#d8576b\"],[0.6666666666666666,\"#ed7953\"],[0.7777777777777778,\"#fb9f3a\"],[0.8888888888888888,\"#fdca26\"],[1.0,\"#f0f921\"]]}],\"mesh3d\":[{\"type\":\"mesh3d\",\"colorbar\":{\"outlinewidth\":0,\"ticks\":\"\"}}],\"scatter\":[{\"fillpattern\":{\"fillmode\":\"overlay\",\"size\":10,\"solidity\":0.2},\"type\":\"scatter\"}],\"parcoords\":[{\"type\":\"parcoords\",\"line\":{\"colorbar\":{\"outlinewidth\":0,\"ticks\":\"\"}}}],\"scatterpolargl\":[{\"type\":\"scatterpolargl\",\"marker\":{\"colorbar\":{\"outlinewidth\":0,\"ticks\":\"\"}}}],\"bar\":[{\"error_x\":{\"color\":\"#2a3f5f\"},\"error_y\":{\"color\":\"#2a3f5f\"},\"marker\":{\"line\":{\"color\":\"#E5ECF6\",\"width\":0.5},\"pattern\":{\"fillmode\":\"overlay\",\"size\":10,\"solidity\":0.2}},\"type\":\"bar\"}],\"scattergeo\":[{\"type\":\"scattergeo\",\"marker\":{\"colorbar\":{\"outlinewidth\":0,\"ticks\":\"\"}}}],\"scatterpolar\":[{\"type\":\"scatterpolar\",\"marker\":{\"colorbar\":{\"outlinewidth\":0,\"ticks\":\"\"}}}],\"histogram\":[{\"marker\":{\"pattern\":{\"fillmode\":\"overlay\",\"size\":10,\"solidity\":0.2}},\"type\":\"histogram\"}],\"scattergl\":[{\"type\":\"scattergl\",\"marker\":{\"colorbar\":{\"outlinewidth\":0,\"ticks\":\"\"}}}],\"scatter3d\":[{\"type\":\"scatter3d\",\"line\":{\"colorbar\":{\"outlinewidth\":0,\"ticks\":\"\"}},\"marker\":{\"colorbar\":{\"outlinewidth\":0,\"ticks\":\"\"}}}],\"scattermapbox\":[{\"type\":\"scattermapbox\",\"marker\":{\"colorbar\":{\"outlinewidth\":0,\"ticks\":\"\"}}}],\"scatterternary\":[{\"type\":\"scatterternary\",\"marker\":{\"colorbar\":{\"outlinewidth\":0,\"ticks\":\"\"}}}],\"scattercarpet\":[{\"type\":\"scattercarpet\",\"marker\":{\"colorbar\":{\"outlinewidth\":0,\"ticks\":\"\"}}}],\"carpet\":[{\"aaxis\":{\"endlinecolor\":\"#2a3f5f\",\"gridcolor\":\"white\",\"linecolor\":\"white\",\"minorgridcolor\":\"white\",\"startlinecolor\":\"#2a3f5f\"},\"baxis\":{\"endlinecolor\":\"#2a3f5f\",\"gridcolor\":\"white\",\"linecolor\":\"white\",\"minorgridcolor\":\"white\",\"startlinecolor\":\"#2a3f5f\"},\"type\":\"carpet\"}],\"table\":[{\"cells\":{\"fill\":{\"color\":\"#EBF0F8\"},\"line\":{\"color\":\"white\"}},\"header\":{\"fill\":{\"color\":\"#C8D4E3\"},\"line\":{\"color\":\"white\"}},\"type\":\"table\"}],\"barpolar\":[{\"marker\":{\"line\":{\"color\":\"#E5ECF6\",\"width\":0.5},\"pattern\":{\"fillmode\":\"overlay\",\"size\":10,\"solidity\":0.2}},\"type\":\"barpolar\"}],\"pie\":[{\"automargin\":true,\"type\":\"pie\"}]},\"layout\":{\"autotypenumbers\":\"strict\",\"colorway\":[\"#636efa\",\"#EF553B\",\"#00cc96\",\"#ab63fa\",\"#FFA15A\",\"#19d3f3\",\"#FF6692\",\"#B6E880\",\"#FF97FF\",\"#FECB52\"],\"font\":{\"color\":\"#2a3f5f\"},\"hovermode\":\"closest\",\"hoverlabel\":{\"align\":\"left\"},\"paper_bgcolor\":\"white\",\"plot_bgcolor\":\"#E5ECF6\",\"polar\":{\"bgcolor\":\"#E5ECF6\",\"angularaxis\":{\"gridcolor\":\"white\",\"linecolor\":\"white\",\"ticks\":\"\"},\"radialaxis\":{\"gridcolor\":\"white\",\"linecolor\":\"white\",\"ticks\":\"\"}},\"ternary\":{\"bgcolor\":\"#E5ECF6\",\"aaxis\":{\"gridcolor\":\"white\",\"linecolor\":\"white\",\"ticks\":\"\"},\"baxis\":{\"gridcolor\":\"white\",\"linecolor\":\"white\",\"ticks\":\"\"},\"caxis\":{\"gridcolor\":\"white\",\"linecolor\":\"white\",\"ticks\":\"\"}},\"coloraxis\":{\"colorbar\":{\"outlinewidth\":0,\"ticks\":\"\"}},\"colorscale\":{\"sequential\":[[0.0,\"#0d0887\"],[0.1111111111111111,\"#46039f\"],[0.2222222222222222,\"#7201a8\"],[0.3333333333333333,\"#9c179e\"],[0.4444444444444444,\"#bd3786\"],[0.5555555555555556,\"#d8576b\"],[0.6666666666666666,\"#ed7953\"],[0.7777777777777778,\"#fb9f3a\"],[0.8888888888888888,\"#fdca26\"],[1.0,\"#f0f921\"]],\"sequentialminus\":[[0.0,\"#0d0887\"],[0.1111111111111111,\"#46039f\"],[0.2222222222222222,\"#7201a8\"],[0.3333333333333333,\"#9c179e\"],[0.4444444444444444,\"#bd3786\"],[0.5555555555555556,\"#d8576b\"],[0.6666666666666666,\"#ed7953\"],[0.7777777777777778,\"#fb9f3a\"],[0.8888888888888888,\"#fdca26\"],[1.0,\"#f0f921\"]],\"diverging\":[[0,\"#8e0152\"],[0.1,\"#c51b7d\"],[0.2,\"#de77ae\"],[0.3,\"#f1b6da\"],[0.4,\"#fde0ef\"],[0.5,\"#f7f7f7\"],[0.6,\"#e6f5d0\"],[0.7,\"#b8e186\"],[0.8,\"#7fbc41\"],[0.9,\"#4d9221\"],[1,\"#276419\"]]},\"xaxis\":{\"gridcolor\":\"white\",\"linecolor\":\"white\",\"ticks\":\"\",\"title\":{\"standoff\":15},\"zerolinecolor\":\"white\",\"automargin\":true,\"zerolinewidth\":2},\"yaxis\":{\"gridcolor\":\"white\",\"linecolor\":\"white\",\"ticks\":\"\",\"title\":{\"standoff\":15},\"zerolinecolor\":\"white\",\"automargin\":true,\"zerolinewidth\":2},\"scene\":{\"xaxis\":{\"backgroundcolor\":\"#E5ECF6\",\"gridcolor\":\"white\",\"linecolor\":\"white\",\"showbackground\":true,\"ticks\":\"\",\"zerolinecolor\":\"white\",\"gridwidth\":2},\"yaxis\":{\"backgroundcolor\":\"#E5ECF6\",\"gridcolor\":\"white\",\"linecolor\":\"white\",\"showbackground\":true,\"ticks\":\"\",\"zerolinecolor\":\"white\",\"gridwidth\":2},\"zaxis\":{\"backgroundcolor\":\"#E5ECF6\",\"gridcolor\":\"white\",\"linecolor\":\"white\",\"showbackground\":true,\"ticks\":\"\",\"zerolinecolor\":\"white\",\"gridwidth\":2}},\"shapedefaults\":{\"line\":{\"color\":\"#2a3f5f\"}},\"annotationdefaults\":{\"arrowcolor\":\"#2a3f5f\",\"arrowhead\":0,\"arrowwidth\":1},\"geo\":{\"bgcolor\":\"white\",\"landcolor\":\"#E5ECF6\",\"subunitcolor\":\"white\",\"showland\":true,\"showlakes\":true,\"lakecolor\":\"white\"},\"title\":{\"x\":0.05},\"mapbox\":{\"style\":\"light\"}}},\"title\":{\"text\":\"Learning Curves\",\"x\":0.5},\"xaxis\":{\"title\":{\"text\":\"Epoch\"}},\"yaxis\":{\"title\":{\"text\":\"Value\"}},\"width\":800,\"height\":600},                        {\"responsive\": true}                    ).then(function(){\n",
              "                            \n",
              "var gd = document.getElementById('e34624df-b964-4ea8-afe9-da3df67baacf');\n",
              "var x = new MutationObserver(function (mutations, observer) {{\n",
              "        var display = window.getComputedStyle(gd).display;\n",
              "        if (!display || display === 'none') {{\n",
              "            console.log([gd, 'removed!']);\n",
              "            Plotly.purge(gd);\n",
              "            observer.disconnect();\n",
              "        }}\n",
              "}});\n",
              "\n",
              "// Listen for the removal of the full notebook cells\n",
              "var notebookContainer = gd.closest('#notebook-container');\n",
              "if (notebookContainer) {{\n",
              "    x.observe(notebookContainer, {childList: true});\n",
              "}}\n",
              "\n",
              "// Listen for the clearing of the current output cell\n",
              "var outputEl = gd.closest('.output');\n",
              "if (outputEl) {{\n",
              "    x.observe(outputEl, {childList: true});\n",
              "}}\n",
              "\n",
              "                        })                };                            </script>        </div>\n",
              "</body>\n",
              "</html>"
            ]
          },
          "metadata": {}
        }
      ],
      "source": [
        "# Plot the learning curves using plotly\n",
        "def plot_learning_curves(history):\n",
        "   # Create a figure\n",
        "   fig = go.Figure()\n",
        "\n",
        "    # Add the training and validation loss\n",
        "   fig.add_trace(go.Scatter(x=np.arange(1, len(history.history['loss']) + 1), y=history.history['loss'], mode='lines', name='Training Loss'))\n",
        "   fig.add_trace(go.Scatter(x=np.arange(1, len(history.history['val_loss']) + 1), y=history.history['val_loss'], mode='lines', name='Validation Loss'))\n",
        "\n",
        "    # Add the training and validation accuracy\n",
        "   fig.add_trace(go.Scatter(x=np.arange(1, len(history.history['accuracy']) + 1), y=history.history['accuracy'], mode='lines', name='Training Accuracy'))\n",
        "   fig.add_trace(go.Scatter(x=np.arange(1, len(history.history['val_accuracy']) + 1), y=history.history['val_accuracy'], mode='lines', name='Validation Accuracy'))\n",
        "\n",
        "   # Update the layout\n",
        "   fig.update_layout(\n",
        "         title='Learning Curves',\n",
        "         title_x=0.5,\n",
        "         xaxis_title='Epoch',\n",
        "         yaxis_title='Value',\n",
        "         width=800,\n",
        "         height=600\n",
        "   )\n",
        "\n",
        "   fig.show()\n",
        "\n",
        "plot_learning_curves(deep_and_wide_history)\n",
        ""
      ]
    },
    {
      "cell_type": "code",
      "execution_count": 94,
      "metadata": {
        "id": "ZdaRu-UxZJZS",
        "colab": {
          "base_uri": "https://localhost:8080/"
        },
        "outputId": "3b197cf0-fa12-428e-c658-496ae4d1fd96"
      },
      "outputs": [
        {
          "name": "stdout",
          "output_type": "stream",
          "text": [
            "253/253 [==============================] - 1s 5ms/step\n",
            "Enter the name for the predictions:deep_and_wide_non_seq_v1\n"
          ]
        }
      ],
      "source": [
        "# Predict the test data\n",
        "y_pred_deep_wide = deep_and_wide.predict(test_2D)\n",
        "y_pred_deep_wide = (y_pred_deep_wide > 0.5).astype(int)\n",
        "\n",
        "df = pd.DataFrame(y_pred_deep_wide, columns=['Predicted'])\n",
        "df.index.name = 'id'\n",
        "filename = input('Enter the name for the predictions:')\n",
        "df.to_csv(f'{filename}.csv', header=True)"
      ]
    },
    {
      "cell_type": "markdown",
      "metadata": {
        "id": "SfR2xxlvZJZS"
      },
      "source": [
        "## Report (new deep and wide non-sequential model)\n",
        "\n",
        "The deep and wide model was troublesome to work with, much more unstable than the sequential models. I experimented with several different combinations of paths in the concatenate layer, and found that the deeper layers were far more consistent in their convergence. It also seemed like the shallow layers (the first few) did better with fewer neurons than the deeper layers, which means that the more complex features were being learned in the deeper layers. However, the features being learned in the shallower layers (those with 32 filters) did not make sense to the final classification, such as when I included 'dropout2' or 'dropout3' (those being the last operations on fully connected layers 2 and 3). The nature of the data seems to require a relatively deep model, but not so wide. I left additional layers in the model though they are not being used, for reference. I found that after hidden_layer6, adding any more layers with the same number of more filters caused the model to overfit the data.\n",
        "\n",
        "The kaggle score is 89.47%, so not terrible, it just needs more TLC.\n",
        "\n"
      ]
    }
  ],
  "metadata": {
    "kernelspec": {
      "display_name": "EEG_analysis",
      "language": "python",
      "name": "python3"
    },
    "language_info": {
      "codemirror_mode": {
        "name": "ipython",
        "version": 3
      },
      "file_extension": ".py",
      "mimetype": "text/x-python",
      "name": "python",
      "nbconvert_exporter": "python",
      "pygments_lexer": "ipython3",
      "version": "3.11.8"
    },
    "colab": {
      "provenance": []
    }
  },
  "nbformat": 4,
  "nbformat_minor": 0
}